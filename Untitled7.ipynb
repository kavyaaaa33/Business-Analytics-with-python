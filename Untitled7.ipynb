{
  "nbformat": 4,
  "nbformat_minor": 0,
  "metadata": {
    "colab": {
      "provenance": [],
      "authorship_tag": "ABX9TyN85kncrV/oRy8YmtBseX1Q",
      "include_colab_link": true
    },
    "kernelspec": {
      "name": "python3",
      "display_name": "Python 3"
    },
    "language_info": {
      "name": "python"
    }
  },
  "cells": [
    {
      "cell_type": "markdown",
      "metadata": {
        "id": "view-in-github",
        "colab_type": "text"
      },
      "source": [
        "<a href=\"https://colab.research.google.com/github/kavyaaaa33/Business-Analytics-with-python/blob/main/Untitled7.ipynb\" target=\"_parent\"><img src=\"https://colab.research.google.com/assets/colab-badge.svg\" alt=\"Open In Colab\"/></a>"
      ]
    },
    {
      "cell_type": "code",
      "execution_count": 2,
      "metadata": {
        "id": "QozGYoQMYiKY"
      },
      "outputs": [],
      "source": [
        "x=[10,12,13,14,15,16,17,19,20,25]\n"
      ]
    },
    {
      "cell_type": "code",
      "source": [
        "def list(x):\n",
        "  print(x)"
      ],
      "metadata": {
        "id": "cBWGBUt-Za68"
      },
      "execution_count": 3,
      "outputs": []
    },
    {
      "cell_type": "code",
      "source": [
        "list(x)"
      ],
      "metadata": {
        "colab": {
          "base_uri": "https://localhost:8080/"
        },
        "id": "B_IYSjTCZj6V",
        "outputId": "88d58b7c-9041-4fe9-eb87-cb3c317f27d6"
      },
      "execution_count": 5,
      "outputs": [
        {
          "output_type": "stream",
          "name": "stdout",
          "text": [
            "[10, 12, 13, 14, 15, 16, 17, 19, 20, 25]\n"
          ]
        }
      ]
    },
    {
      "cell_type": "code",
      "source": [
        "sum(x)"
      ],
      "metadata": {
        "colab": {
          "base_uri": "https://localhost:8080/"
        },
        "id": "BHngOG2yZlqN",
        "outputId": "08840371-ab56-4fb6-938b-42ff699f4295"
      },
      "execution_count": 6,
      "outputs": [
        {
          "output_type": "execute_result",
          "data": {
            "text/plain": [
              "161"
            ]
          },
          "metadata": {},
          "execution_count": 6
        }
      ]
    },
    {
      "cell_type": "code",
      "source": [
        "def odd(x):\n",
        "  for k in x: \n",
        "    if k % 2 !=0:\n",
        "      print(k)"
      ],
      "metadata": {
        "id": "1YvPdZ-taBHl"
      },
      "execution_count": 25,
      "outputs": []
    },
    {
      "cell_type": "code",
      "source": [
        "odd(x)"
      ],
      "metadata": {
        "colab": {
          "base_uri": "https://localhost:8080/"
        },
        "id": "5X9yeEPVgWUI",
        "outputId": "c739b1ee-15ef-4c46-dc06-cbaab67bc893"
      },
      "execution_count": 26,
      "outputs": [
        {
          "output_type": "stream",
          "name": "stdout",
          "text": [
            "13\n",
            "15\n",
            "17\n",
            "19\n",
            "25\n"
          ]
        }
      ]
    },
    {
      "cell_type": "code",
      "source": [
        "def even(x):\n",
        "  for k in x: \n",
        "    if k%2==0:\n",
        "      print(k)"
      ],
      "metadata": {
        "id": "c8XQK8rQgkVl"
      },
      "execution_count": 28,
      "outputs": []
    },
    {
      "cell_type": "code",
      "source": [
        "even(x)"
      ],
      "metadata": {
        "colab": {
          "base_uri": "https://localhost:8080/"
        },
        "id": "s8v3Ky7Vgv3U",
        "outputId": "d1c438ee-3cc9-4762-825a-f4ada8beaf73"
      },
      "execution_count": 29,
      "outputs": [
        {
          "output_type": "stream",
          "name": "stdout",
          "text": [
            "10\n",
            "12\n",
            "14\n",
            "16\n",
            "20\n"
          ]
        }
      ]
    },
    {
      "cell_type": "code",
      "source": [
        "text=input(\"Enter the String: \")\n",
        "vowels = ['a', 'e', 'i', 'o', 'u', 'A', 'E', 'I', 'O', 'U']\n",
        "newtext = \"\"\n",
        "textlen = len(text)\n",
        "\n",
        "for i in range(textlen):\n",
        "    if text[i] not in vowels:\n",
        "        newtext = newtext + text[i]\n",
        "\n",
        "print(\"\\nString after removing Vowels: \")\n",
        "text = newtext\n",
        "print(text)"
      ],
      "metadata": {
        "colab": {
          "base_uri": "https://localhost:8080/"
        },
        "id": "ElSwlm6QhrjJ",
        "outputId": "5a05f14f-8df4-40cb-9fad-ea14eb383ef2"
      },
      "execution_count": 34,
      "outputs": [
        {
          "output_type": "stream",
          "name": "stdout",
          "text": [
            "Enter the String: Python is a high-level, general-purpose programming language.\n",
            "\n",
            "String after removing Vowels: \n",
            "Pythn s  hgh-lvl, gnrl-prps prgrmmng lngg.\n"
          ]
        }
      ]
    },
    {
      "cell_type": "code",
      "source": [],
      "metadata": {
        "id": "lzsPLNC-hwox"
      },
      "execution_count": 33,
      "outputs": []
    }
  ]
}