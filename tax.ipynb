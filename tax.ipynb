{
  "nbformat": 4,
  "nbformat_minor": 0,
  "metadata": {
    "colab": {
      "name": "tax.ipynb",
      "provenance": [],
      "authorship_tag": "ABX9TyO9ephxwiBDQ4rge65rXTp2",
      "include_colab_link": true
    },
    "kernelspec": {
      "name": "python3",
      "display_name": "Python 3"
    },
    "language_info": {
      "name": "python"
    }
  },
  "cells": [
    {
      "cell_type": "markdown",
      "metadata": {
        "id": "view-in-github",
        "colab_type": "text"
      },
      "source": [
        "<a href=\"https://colab.research.google.com/github/kavyaaaa33/business-analytics-with-python/blob/main/tax.ipynb\" target=\"_parent\"><img src=\"https://colab.research.google.com/assets/colab-badge.svg\" alt=\"Open In Colab\"/></a>"
      ]
    },
    {
      "cell_type": "code",
      "execution_count": null,
      "metadata": {
        "colab": {
          "base_uri": "https://localhost:8080/"
        },
        "id": "AZNr0Jv6PItq",
        "outputId": "f60fd5bc-c849-4d43-cea9-6ad229664119"
      },
      "outputs": [
        {
          "name": "stdout",
          "output_type": "stream",
          "text": [
            "enter the first number3\n"
          ]
        }
      ],
      "source": [
        "x=input(\"enter the first number\")"
      ]
    },
    {
      "cell_type": "code",
      "source": [
        "y=input(\"enter second number\")"
      ],
      "metadata": {
        "colab": {
          "base_uri": "https://localhost:8080/"
        },
        "id": "Mra1MEtVPQ3T",
        "outputId": "f079c872-79d9-43c7-b334-5e546979fd34"
      },
      "execution_count": null,
      "outputs": [
        {
          "name": "stdout",
          "output_type": "stream",
          "text": [
            "enter second number4\n"
          ]
        }
      ]
    },
    {
      "cell_type": "code",
      "source": [
        "print (int(x)+int(y))\n"
      ],
      "metadata": {
        "colab": {
          "base_uri": "https://localhost:8080/"
        },
        "id": "sZxCvZBnPnJR",
        "outputId": "aa2dc893-6383-4ee7-acc0-fa023c43ed51"
      },
      "execution_count": null,
      "outputs": [
        {
          "output_type": "stream",
          "name": "stdout",
          "text": [
            "7\n"
          ]
        }
      ]
    },
    {
      "cell_type": "code",
      "source": [
        "x=int(input(\"enter first number\"))"
      ],
      "metadata": {
        "colab": {
          "base_uri": "https://localhost:8080/"
        },
        "id": "fJ5MN9iSRtEH",
        "outputId": "cb24337f-bd08-46d7-e70e-5fdbc473c15b"
      },
      "execution_count": null,
      "outputs": [
        {
          "name": "stdout",
          "output_type": "stream",
          "text": [
            "enter first number88\n"
          ]
        }
      ]
    },
    {
      "cell_type": "code",
      "source": [
        "y=int(input(\"enter seond number\"))"
      ],
      "metadata": {
        "colab": {
          "base_uri": "https://localhost:8080/"
        },
        "id": "Pw0JdAe1R0mO",
        "outputId": "51637aec-325f-42f7-8c71-43f902fac2e3"
      },
      "execution_count": null,
      "outputs": [
        {
          "name": "stdout",
          "output_type": "stream",
          "text": [
            "enter seond number45\n"
          ]
        }
      ]
    },
    {
      "cell_type": "code",
      "source": [
        "print(x+y)"
      ],
      "metadata": {
        "colab": {
          "base_uri": "https://localhost:8080/"
        },
        "id": "fexDHobkR8IO",
        "outputId": "988c33c0-9ec5-4e5f-b2d0-8266acb5ef48"
      },
      "execution_count": null,
      "outputs": [
        {
          "output_type": "stream",
          "name": "stdout",
          "text": [
            "133\n"
          ]
        }
      ]
    },
    {
      "cell_type": "code",
      "source": [
        "p=int(input(\"enter the principle amt\"))\n",
        "r=int(input(\"enter the rate\"))\n",
        "t=int(input(\"enter the time\"))\n",
        "x=p*r*t/100\n",
        "print(x)\n"
      ],
      "metadata": {
        "colab": {
          "base_uri": "https://localhost:8080/"
        },
        "id": "lwkyIQPoSAU-",
        "outputId": "a41665b9-febb-4655-86c7-498f43dca222"
      },
      "execution_count": null,
      "outputs": [
        {
          "output_type": "stream",
          "name": "stdout",
          "text": [
            "enter the principle amt5000\n",
            "enter the rate2\n",
            "enter the time5\n",
            "500.0\n"
          ]
        }
      ]
    },
    {
      "cell_type": "code",
      "source": [
        "x=int(input(\"enter banking marks\"))\n",
        "if x>= 50:\n",
        "  print(\"pass\")\n",
        "else :\n",
        "  print(\"fail\")"
      ],
      "metadata": {
        "id": "H3YeRd_UUKJt",
        "colab": {
          "base_uri": "https://localhost:8080/"
        },
        "outputId": "ccb63160-1895-4aff-da15-4d59e585c28e"
      },
      "execution_count": 16,
      "outputs": [
        {
          "output_type": "stream",
          "name": "stdout",
          "text": [
            "enter banking marks78\n",
            "pass\n"
          ]
        }
      ]
    },
    {
      "cell_type": "code",
      "source": [
        "x=int(input(\"enter your salary\"))\n",
        "if x>= 500000:\n",
        "  print(\"your taxable\")\n",
        "else:\n",
        "  print(\"your not taxabble\")"
      ],
      "metadata": {
        "colab": {
          "base_uri": "https://localhost:8080/"
        },
        "id": "fv_3mKqcaidY",
        "outputId": "d33ba7fd-b264-4534-dece-fc4f8e114b88"
      },
      "execution_count": 17,
      "outputs": [
        {
          "output_type": "stream",
          "name": "stdout",
          "text": [
            "enter your salary56223362226\n",
            "your taxable\n"
          ]
        }
      ]
    },
    {
      "cell_type": "code",
      "source": [
        "x=int(input(\"enter your salary\"))\n",
        "if x>= 5000000:\n",
        "       print(\"your taxable\")\n",
        "else:\n",
        "     print (\"not taxable\")\n",
        "y=x*10/100\n",
        "print (y)"
      ],
      "metadata": {
        "colab": {
          "base_uri": "https://localhost:8080/"
        },
        "id": "tN9sExLObowc",
        "outputId": "4d5822b0-231d-4e30-8ff4-f11cb47bf0e7"
      },
      "execution_count": 20,
      "outputs": [
        {
          "output_type": "stream",
          "name": "stdout",
          "text": [
            "enter your salary46667880\n",
            "your taxable\n",
            "4666788.0\n"
          ]
        }
      ]
    },
    {
      "cell_type": "code",
      "source": [
        "x=int(input(\"enter your salary\"))\n",
        "if x <250000:\n",
        "  print(\"your taxable\")\n",
        "elif x<500000:\n",
        "  print(x-250000*10/100)\n",
        "else:\n",
        "  print(\"your not taxable\")"
      ],
      "metadata": {
        "colab": {
          "base_uri": "https://localhost:8080/"
        },
        "id": "0wRFCdqTbyV-",
        "outputId": "2e2f4f1e-ce34-489e-f7a3-6a3cb4686c3c"
      },
      "execution_count": 23,
      "outputs": [
        {
          "output_type": "stream",
          "name": "stdout",
          "text": [
            "enter your salary500000\n",
            "your not taxable\n"
          ]
        }
      ]
    },
    {
      "cell_type": "code",
      "source": [
        ""
      ],
      "metadata": {
        "id": "VVD4SkYNjK6u"
      },
      "execution_count": 21,
      "outputs": []
    }
  ]
}