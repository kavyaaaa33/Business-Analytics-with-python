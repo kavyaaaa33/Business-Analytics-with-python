{
  "nbformat": 4,
  "nbformat_minor": 0,
  "metadata": {
    "colab": {
      "provenance": [],
      "authorship_tag": "ABX9TyO33j7Vf4U+vcIc/YfuB1zT",
      "include_colab_link": true
    },
    "kernelspec": {
      "name": "python3",
      "display_name": "Python 3"
    },
    "language_info": {
      "name": "python"
    }
  },
  "cells": [
    {
      "cell_type": "markdown",
      "metadata": {
        "id": "view-in-github",
        "colab_type": "text"
      },
      "source": [
        "<a href=\"https://colab.research.google.com/github/kavyaaaa33/Business-Analytics-with-python/blob/main/tax_calculation_from_salry.ipynb\" target=\"_parent\"><img src=\"https://colab.research.google.com/assets/colab-badge.svg\" alt=\"Open In Colab\"/></a>"
      ]
    },
    {
      "cell_type": "code",
      "execution_count": 5,
      "metadata": {
        "colab": {
          "base_uri": "https://localhost:8080/"
        },
        "id": "VOdFdvtvqalQ",
        "outputId": "8d8761f6-e1ab-421f-e8c5-acaa293ec821"
      },
      "outputs": [
        {
          "name": "stdout",
          "output_type": "stream",
          "text": [
            "enter your salary1000000\n",
            "enter your HRA150000\n",
            "enter your insurance amt50000\n"
          ]
        }
      ],
      "source": [
        "grosssalary=int(input(\"enter your salary\"))\n",
        "hra=int(input(\"enter your HRA\"))\n",
        "insurance=int(input(\"enter your insurance amt\"))\n"
      ]
    },
    {
      "cell_type": "code",
      "source": [
        "basicsalary=grosssalary-hra\n",
        "print(basicsalary)\n"
      ],
      "metadata": {
        "colab": {
          "base_uri": "https://localhost:8080/"
        },
        "id": "RMQqIRztt36B",
        "outputId": "7d897714-4af0-41e7-e662-855e99e579aa"
      },
      "execution_count": 8,
      "outputs": [
        {
          "output_type": "stream",
          "name": "stdout",
          "text": [
            "850000\n"
          ]
        }
      ]
    },
    {
      "cell_type": "code",
      "source": [
        "if hra<=10/100*basicsalary:\n",
        "  print(\"your are exempt from paying tax\")\n",
        "else:\n",
        "  print(\"you have to pay tax\")"
      ],
      "metadata": {
        "colab": {
          "base_uri": "https://localhost:8080/"
        },
        "id": "5U84UZU_ugcL",
        "outputId": "4d941040-65d6-4192-e738-ca6274092fdf"
      },
      "execution_count": 11,
      "outputs": [
        {
          "output_type": "stream",
          "name": "stdout",
          "text": [
            "you have to pay tax\n"
          ]
        }
      ]
    },
    {
      "cell_type": "code",
      "source": [
        "x=basicsalary+insurance\n",
        "print(x)\n"
      ],
      "metadata": {
        "colab": {
          "base_uri": "https://localhost:8080/"
        },
        "id": "WZ-nORZNumbj",
        "outputId": "2004008f-1e45-4849-e7bc-fc790a4ddc13"
      },
      "execution_count": 13,
      "outputs": [
        {
          "output_type": "stream",
          "name": "stdout",
          "text": [
            "900000\n"
          ]
        }
      ]
    },
    {
      "cell_type": "code",
      "source": [
        "if x<=250000:\n",
        "  print(\"your are exempt from paying tax\")\n",
        "else:\n",
        "    y=x*10/100\n",
        "    print(\"you have to pay tax amounting to\",y) "
      ],
      "metadata": {
        "colab": {
          "base_uri": "https://localhost:8080/"
        },
        "id": "Th7ea5vYu0AT",
        "outputId": "d0192f49-313b-4eab-91e4-63eb841d6674"
      },
      "execution_count": 17,
      "outputs": [
        {
          "output_type": "stream",
          "name": "stdout",
          "text": [
            "you have to pay tax amounting to 90000.0\n"
          ]
        }
      ]
    }
  ]
}