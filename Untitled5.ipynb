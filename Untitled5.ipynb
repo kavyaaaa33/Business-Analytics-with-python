{
  "nbformat": 4,
  "nbformat_minor": 0,
  "metadata": {
    "colab": {
      "provenance": [],
      "authorship_tag": "ABX9TyPiVg9IWdSV8oee/3e4dgI2",
      "include_colab_link": true
    },
    "kernelspec": {
      "name": "python3",
      "display_name": "Python 3"
    },
    "language_info": {
      "name": "python"
    }
  },
  "cells": [
    {
      "cell_type": "markdown",
      "metadata": {
        "id": "view-in-github",
        "colab_type": "text"
      },
      "source": [
        "<a href=\"https://colab.research.google.com/github/kavyaaaa33/Business-Analytics-with-python/blob/main/Untitled5.ipynb\" target=\"_parent\"><img src=\"https://colab.research.google.com/assets/colab-badge.svg\" alt=\"Open In Colab\"/></a>"
      ]
    },
    {
      "cell_type": "code",
      "execution_count": 2,
      "metadata": {
        "id": "4OIZpX79O0So"
      },
      "outputs": [],
      "source": [
        "def liz():\n",
        "  print(\"india is my country\")"
      ]
    },
    {
      "cell_type": "code",
      "source": [
        "liz()"
      ],
      "metadata": {
        "colab": {
          "base_uri": "https://localhost:8080/"
        },
        "id": "o0VYNbowPe9A",
        "outputId": "a00ac1e7-23fa-4804-a58b-d4d7976da7eb"
      },
      "execution_count": 4,
      "outputs": [
        {
          "output_type": "stream",
          "name": "stdout",
          "text": [
            "india is my country\n"
          ]
        }
      ]
    },
    {
      "cell_type": "code",
      "source": [
        "def kavya():\n",
        "  print(\"i hate rajagiri\")"
      ],
      "metadata": {
        "id": "XmYOiB8iPorA"
      },
      "execution_count": 5,
      "outputs": []
    },
    {
      "cell_type": "code",
      "source": [
        "kavya()"
      ],
      "metadata": {
        "colab": {
          "base_uri": "https://localhost:8080/"
        },
        "id": "3i6lc4I9QGOh",
        "outputId": "7f766d92-1cca-43d0-bc35-de83ba99bbcf"
      },
      "execution_count": 6,
      "outputs": [
        {
          "output_type": "stream",
          "name": "stdout",
          "text": [
            "i hate rajagiri\n"
          ]
        }
      ]
    },
    {
      "cell_type": "code",
      "source": [
        "def kavya(x):\n",
        "  print(\"my roll no is\" ,x)"
      ],
      "metadata": {
        "id": "6IXE9dD_QIo3"
      },
      "execution_count": 10,
      "outputs": []
    },
    {
      "cell_type": "code",
      "source": [
        "x=int(input(\"enter your roll no\"))"
      ],
      "metadata": {
        "colab": {
          "base_uri": "https://localhost:8080/"
        },
        "id": "Gg3OZCqCQyGE",
        "outputId": "b575fe27-aacf-4afa-e175-b434eaa90d1c"
      },
      "execution_count": 11,
      "outputs": [
        {
          "name": "stdout",
          "output_type": "stream",
          "text": [
            "enter your roll no10\n"
          ]
        }
      ]
    },
    {
      "cell_type": "code",
      "source": [
        "kavya(x)"
      ],
      "metadata": {
        "colab": {
          "base_uri": "https://localhost:8080/"
        },
        "id": "aSkHuaiVRWbW",
        "outputId": "0a99f6e4-3e85-47ac-84c6-ff2d4773eb7c"
      },
      "execution_count": 12,
      "outputs": [
        {
          "output_type": "stream",
          "name": "stdout",
          "text": [
            "my roll no is 10\n"
          ]
        }
      ]
    },
    {
      "cell_type": "code",
      "source": [
        "def kavya(x,y,z,a):\n",
        "  print(\"my information is :\",x,y,z,a)"
      ],
      "metadata": {
        "id": "fgTiA5DfRfiV"
      },
      "execution_count": 15,
      "outputs": []
    },
    {
      "cell_type": "code",
      "source": [
        "x=(input(\"enter your name\"))\n",
        "y=int(input(\"enter your roll no\"))\n",
        "z=input(\"enter your email adress\")\n",
        "a=input(\"enter your place\")"
      ],
      "metadata": {
        "colab": {
          "base_uri": "https://localhost:8080/"
        },
        "id": "3DomxPu5SUZY",
        "outputId": "8c21775c-ad9f-4ca6-85e0-02a9ab20a4a6"
      },
      "execution_count": 16,
      "outputs": [
        {
          "name": "stdout",
          "output_type": "stream",
          "text": [
            "enter your namekavya\n",
            "enter your roll no23\n",
            "enter your email adressmenonkavya185@gmail.com\n",
            "enter your placethrissur\n"
          ]
        }
      ]
    },
    {
      "cell_type": "code",
      "source": [
        "kavya(x,y,z,a)"
      ],
      "metadata": {
        "colab": {
          "base_uri": "https://localhost:8080/"
        },
        "id": "-LUX-bLdSc9C",
        "outputId": "7701945c-8236-4edb-de49-d69565869553"
      },
      "execution_count": 17,
      "outputs": [
        {
          "output_type": "stream",
          "name": "stdout",
          "text": [
            "my information is : kavya 23 menonkavya185@gmail.com thrissur\n"
          ]
        }
      ]
    },
    {
      "cell_type": "code",
      "source": [
        "x=input(\"enter your full name\")\n",
        "def firstname(x):\n",
        "  print(x[0:5])\n",
        "def secondname(x):\n",
        "  print(x[5:10])"
      ],
      "metadata": {
        "colab": {
          "base_uri": "https://localhost:8080/"
        },
        "id": "94O1AFEqWOzf",
        "outputId": "5428232c-4af2-40a1-bf66-f30794ae6df7"
      },
      "execution_count": 59,
      "outputs": [
        {
          "name": "stdout",
          "output_type": "stream",
          "text": [
            "enter your full namekavyamenon\n"
          ]
        }
      ]
    },
    {
      "cell_type": "code",
      "source": [
        "firstname(x)\n",
        "secondname(x)\n"
      ],
      "metadata": {
        "colab": {
          "base_uri": "https://localhost:8080/"
        },
        "id": "AoFFOyGqWnCh",
        "outputId": "a3b5968f-ddc5-4d0d-f96a-b24579007bf2"
      },
      "execution_count": 60,
      "outputs": [
        {
          "output_type": "stream",
          "name": "stdout",
          "text": [
            "kavya\n",
            "menon\n"
          ]
        }
      ]
    },
    {
      "cell_type": "code",
      "source": [
        "def first(x):\n",
        "  print(\"enter ur first name\",x[0])\n"
      ],
      "metadata": {
        "id": "bBeTXiYafAoY"
      },
      "execution_count": 65,
      "outputs": []
    },
    {
      "cell_type": "code",
      "source": [
        "def second(x):\n",
        "  print(\"enter ur second name\",x[1])"
      ],
      "metadata": {
        "id": "EsiBYmJKhUil"
      },
      "execution_count": 66,
      "outputs": []
    },
    {
      "cell_type": "code",
      "source": [
        "def third(x):\n",
        "  print(\"enter ur third name\",x[2])"
      ],
      "metadata": {
        "id": "wralGhgNhf0E"
      },
      "execution_count": 67,
      "outputs": []
    },
    {
      "cell_type": "code",
      "source": [
        "a=input(\"enter ur name\")\n",
        "x=a.split(\" \")\n",
        "first(x)\n",
        "second(x)\n",
        "third(x)"
      ],
      "metadata": {
        "colab": {
          "base_uri": "https://localhost:8080/"
        },
        "id": "qPgjuoVfhlx5",
        "outputId": "51196041-c708-41b2-b69f-0d2497eec8f1"
      },
      "execution_count": 70,
      "outputs": [
        {
          "output_type": "stream",
          "name": "stdout",
          "text": [
            "enter ur namekavya r  menon\n",
            "enter ur first name kavya\n",
            "enter ur second name r\n",
            "enter ur third name \n"
          ]
        }
      ]
    },
    {
      "cell_type": "code",
      "source": [],
      "metadata": {
        "id": "Zf6wxCm-hlvB"
      },
      "execution_count": null,
      "outputs": []
    }
  ]
}