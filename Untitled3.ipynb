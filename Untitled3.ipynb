{
  "nbformat": 4,
  "nbformat_minor": 0,
  "metadata": {
    "colab": {
      "provenance": [],
      "authorship_tag": "ABX9TyNfvJFpWqlDuTg1n31nfwwR",
      "include_colab_link": true
    },
    "kernelspec": {
      "name": "python3",
      "display_name": "Python 3"
    },
    "language_info": {
      "name": "python"
    }
  },
  "cells": [
    {
      "cell_type": "markdown",
      "metadata": {
        "id": "view-in-github",
        "colab_type": "text"
      },
      "source": [
        "<a href=\"https://colab.research.google.com/github/kavyaaaa33/Business-Analytics-with-python/blob/main/Untitled3.ipynb\" target=\"_parent\"><img src=\"https://colab.research.google.com/assets/colab-badge.svg\" alt=\"Open In Colab\"/></a>"
      ]
    },
    {
      "cell_type": "code",
      "execution_count": 2,
      "metadata": {
        "colab": {
          "base_uri": "https://localhost:8080/"
        },
        "id": "ObHM9OjPF729",
        "outputId": "91dfa506-5ac4-4217-fdd1-5b48fd4feb3a"
      },
      "outputs": [
        {
          "name": "stdout",
          "output_type": "stream",
          "text": [
            "enter your marks50\n"
          ]
        }
      ],
      "source": [
        "x=int(input(\"enter your marks\"))"
      ]
    },
    {
      "cell_type": "code",
      "source": [
        "if x>50:\n",
        "  print(\"your are pass\")"
      ],
      "metadata": {
        "id": "MN-EYLd_GIRT"
      },
      "execution_count": 3,
      "outputs": []
    },
    {
      "cell_type": "code",
      "source": [
        "if x<50:\n",
        "  print(\"you are failed\")"
      ],
      "metadata": {
        "id": "Be7DE3vMGObZ"
      },
      "execution_count": 5,
      "outputs": []
    },
    {
      "cell_type": "code",
      "source": [
        "y=int(input(\"enter your salary\"))\n"
      ],
      "metadata": {
        "colab": {
          "base_uri": "https://localhost:8080/"
        },
        "id": "d5HpnAZTGV5O",
        "outputId": "80d70ad6-e4f8-475d-b7d4-967a390362ad"
      },
      "execution_count": 6,
      "outputs": [
        {
          "name": "stdout",
          "output_type": "stream",
          "text": [
            "enter your salary250000\n"
          ]
        }
      ]
    },
    {
      "cell_type": "code",
      "source": [
        "if y<250000:\n",
        "  print('you are not taxable')\n",
        "else:\n",
        "    print('your are taxable')"
      ],
      "metadata": {
        "colab": {
          "base_uri": "https://localhost:8080/"
        },
        "id": "7OtJiDLEG92Z",
        "outputId": "84b28348-407a-4991-92b2-3295f6a36f30"
      },
      "execution_count": 10,
      "outputs": [
        {
          "output_type": "stream",
          "name": "stdout",
          "text": [
            "your are taxable\n"
          ]
        }
      ]
    },
    {
      "cell_type": "code",
      "source": [
        "z=int(input('enter your salary'))\n",
        "if z>=250000:\n",
        "  y=z-250000*10/100\n",
        "if z<250000:\n",
        "  print(\"your not taxable\")"
      ],
      "metadata": {
        "colab": {
          "base_uri": "https://localhost:8080/"
        },
        "id": "9LGzpJxYIcSi",
        "outputId": "1024ed79-2818-49ab-e14c-6c9849cd2a42"
      },
      "execution_count": 43,
      "outputs": [
        {
          "name": "stdout",
          "output_type": "stream",
          "text": [
            "enter your salary300000\n"
          ]
        }
      ]
    },
    {
      "cell_type": "code",
      "source": [
        "print(y)"
      ],
      "metadata": {
        "colab": {
          "base_uri": "https://localhost:8080/"
        },
        "id": "wNIgGBe4JEAc",
        "outputId": "9ca95d6b-6bcf-4c5f-ca17-f64be39695fa"
      },
      "execution_count": 44,
      "outputs": [
        {
          "output_type": "stream",
          "name": "stdout",
          "text": [
            "275000.0\n"
          ]
        }
      ]
    },
    {
      "cell_type": "code",
      "source": [
        "salary=int(input(\"enter your salary\"))\n",
        "if salary<250000:\n",
        "  print(\"your not taxable\")\n",
        "if salary<500000:\n",
        "  x=500000-250000*5/100\n",
        "  print(\"taxable\",x)\n",
        " if salary<750000 and x>500000:\n",
        "   x=salary-2500000*5/100+(x*10/100)\n",
        "     print(\"taxable\",x)\n",
        " if salary<1000000 and x>750000:\n",
        "   x=salary*2500000*5/100+(x-750000*10/100)+(x*15/100)\n",
        "      print(\"taxable\",x)\n",
        "if salary <1250000 and x>1000000:\n",
        "  x=salary-250000*5/100+(x-750000*10/100)+(x-1000000*15/100)+x*20/100\n",
        "       print(\"taxable\",x)\n",
        "if salary<1500000 and x>250000:\n",
        "  x=salary-250000*5/100+(x-750000*10/100)+(x-1000000*15/100)+(x-1500000*20/100)+(x*25/100)\n",
        "    print(\"taxable\",x)\n",
        "if salary>1500000:\n",
        "  x=salary-250000*5/100+(x-750000*10/100)+(x-1000000*15/100)+(x-1500000*20/100)+(x-2500000*25/100)\n",
        "  print(\"taxable\",x)"
      ],
      "metadata": {
        "colab": {
          "base_uri": "https://localhost:8080/",
          "height": 130
        },
        "id": "89GgBol7LrGT",
        "outputId": "a24f7595-0733-4437-f427-a9d880b3711f"
      },
      "execution_count": 68,
      "outputs": [
        {
          "output_type": "error",
          "ename": "IndentationError",
          "evalue": "ignored",
          "traceback": [
            "\u001b[0;36m  File \u001b[0;32m\"<tokenize>\"\u001b[0;36m, line \u001b[0;32m7\u001b[0m\n\u001b[0;31m    if salary<750000 and x>500000:\u001b[0m\n\u001b[0m    ^\u001b[0m\n\u001b[0;31mIndentationError\u001b[0m\u001b[0;31m:\u001b[0m unindent does not match any outer indentation level\n"
          ]
        }
      ]
    }
  ]
}