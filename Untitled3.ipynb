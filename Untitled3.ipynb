{
  "nbformat": 4,
  "nbformat_minor": 0,
  "metadata": {
    "colab": {
      "provenance": [],
      "authorship_tag": "ABX9TyPQjIEWiloZYJDKpEPSO1Nr",
      "include_colab_link": true
    },
    "kernelspec": {
      "name": "python3",
      "display_name": "Python 3"
    },
    "language_info": {
      "name": "python"
    }
  },
  "cells": [
    {
      "cell_type": "markdown",
      "metadata": {
        "id": "view-in-github",
        "colab_type": "text"
      },
      "source": [
        "<a href=\"https://colab.research.google.com/github/kavyaaaa33/Business-Analytics-with-python/blob/main/Untitled3.ipynb\" target=\"_parent\"><img src=\"https://colab.research.google.com/assets/colab-badge.svg\" alt=\"Open In Colab\"/></a>"
      ]
    },
    {
      "cell_type": "code",
      "execution_count": 26,
      "metadata": {
        "colab": {
          "base_uri": "https://localhost:8080/"
        },
        "id": "eKGZgsyLPa76",
        "outputId": "5efc643e-dcea-4c9f-abae-8ab970b86659"
      },
      "outputs": [
        {
          "name": "stdout",
          "output_type": "stream",
          "text": [
            "enter your basic salary500000\n",
            "enter your HRA of employer400000\n",
            "enter your HRA which is actually paid200000\n"
          ]
        }
      ],
      "source": [
        "x=int(input(\"enter your basic salary\"))*12\n",
        "y=int(input(\"enter your HRA of employer\"))*12\n",
        "z=int(input(\"enter your HRA which is actually paid\"))*12\n"
      ]
    },
    {
      "cell_type": "code",
      "source": [
        "a=z-(x*10/100)\n",
        "print(a)\n",
        "b=x*50/100\n",
        "print(b)"
      ],
      "metadata": {
        "colab": {
          "base_uri": "https://localhost:8080/"
        },
        "id": "MYwdzygYRrvm",
        "outputId": "643e708a-0a8a-49c1-d533-53218bd1cd7c"
      },
      "execution_count": 27,
      "outputs": [
        {
          "output_type": "stream",
          "name": "stdout",
          "text": [
            "1800000.0\n",
            "3000000.0\n"
          ]
        }
      ]
    },
    {
      "cell_type": "code",
      "source": [
        "if x<a and x<b:\n",
        "  HRA=x\n",
        "  print(HRA)\n",
        "if a<b and a<x:\n",
        "  HRA=x\n",
        "  print(HRA)\n",
        "if b<a and b<x:\n",
        "  HRA=y\n",
        "  print(HRA)\n"
      ],
      "metadata": {
        "colab": {
          "base_uri": "https://localhost:8080/"
        },
        "id": "io2bKbBTSAD2",
        "outputId": "0e03acb6-1859-4c6c-827f-055f1a2b9b47"
      },
      "execution_count": 28,
      "outputs": [
        {
          "output_type": "stream",
          "name": "stdout",
          "text": [
            "6000000\n"
          ]
        }
      ]
    },
    {
      "cell_type": "code",
      "source": [
        "y1=x+y-5000\n",
        "print(y1)"
      ],
      "metadata": {
        "colab": {
          "base_uri": "https://localhost:8080/"
        },
        "id": "C9-viddzd1RH",
        "outputId": "ea56b7ac-dfce-4083-aa79-b2b9d5a02825"
      },
      "execution_count": 29,
      "outputs": [
        {
          "output_type": "stream",
          "name": "stdout",
          "text": [
            "10795000\n"
          ]
        }
      ]
    },
    {
      "cell_type": "code",
      "source": [
        "if y1<=250000:\n",
        "   print(\"tax is zero\")\n",
        "if y1>=250000 and y1<=500000:\n",
        "   tax=((y1-250000)*5/100)\n",
        "   print(tax)\n",
        "if y1>=500000 and y1<=750000:\n",
        "   tax=((y1-250000)*5/100)+((y1-500000)*10/100)\n",
        "   print(tax)\n",
        "if y1>=750000 and y1<=1000000:\n",
        "   tax=((y1-250000)*5/100)+((y1-500000)*10/100)+((y1-750000)*20/100)\n",
        "   print(tax)\n",
        "if y1>=1250000 and y1<=1500000:\n",
        "   tax=((y1-250000)*5/100)+((y1-500000)*10/100)+((y1-750000)*20/100)+((y1-1250000)*25/100)\n",
        "   print(tax)\n",
        "if y1>=1500000:\n",
        "   tax=((y1-250000)*5/100)+((y1-500000)*10/100)+((y1-750000)*20/100)+((y1-1250000)*25/100)+((y1-1500000)*30/100)\n",
        "   print(tax)\n",
        "\n"
      ],
      "metadata": {
        "colab": {
          "base_uri": "https://localhost:8080/",
          "height": 130
        },
        "id": "fNrEFlUcfMPL",
        "outputId": "35350e81-9eed-4a7e-923c-e15c47264d03"
      },
      "execution_count": 30,
      "outputs": [
        {
          "output_type": "error",
          "ename": "SyntaxError",
          "evalue": "ignored",
          "traceback": [
            "\u001b[0;36m  File \u001b[0;32m\"<ipython-input-30-967112bd084e>\"\u001b[0;36m, line \u001b[0;32m1\u001b[0m\n\u001b[0;31m    if y1<=250000:\u001b[0m\n\u001b[0m        ^\u001b[0m\n\u001b[0;31mSyntaxError\u001b[0m\u001b[0;31m:\u001b[0m invalid character in identifier\n"
          ]
        }
      ]
    }
  ]
}